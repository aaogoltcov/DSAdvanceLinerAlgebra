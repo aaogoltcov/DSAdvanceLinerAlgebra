{
 "cells": [
  {
   "cell_type": "code",
   "execution_count": 1,
   "metadata": {},
   "outputs": [],
   "source": [
    "import pandas as pd\n",
    "import numpy as np"
   ]
  },
  {
   "cell_type": "code",
   "execution_count": 2,
   "metadata": {},
   "outputs": [
    {
     "data": {
      "text/plain": [
       "array([[-1,  0,  0],\n",
       "       [ 0, -1,  0],\n",
       "       [ 0,  0, -1]])"
      ]
     },
     "execution_count": 2,
     "metadata": {},
     "output_type": "execute_result"
    }
   ],
   "source": [
    "# Придумайте матрицы, которые обладают следующими свойствами:\n",
    "# a) диагональная, ортогональная, но не единичная(!):\n",
    "matrix_orto_diagonal = np.array([[-1, 0, 0, ], [0, -1, 0, ], [0, 0, -1, ]])\n",
    "matrix_orto_diagonal_transpose = matrix_orto_diagonal.transpose()\n",
    "matrix_orto_diagonal"
   ]
  },
  {
   "cell_type": "code",
   "execution_count": 3,
   "metadata": {},
   "outputs": [
    {
     "data": {
      "text/plain": [
       "array([[1, 0, 0],\n",
       "       [0, 1, 0],\n",
       "       [0, 0, 1]])"
      ]
     },
     "execution_count": 3,
     "metadata": {},
     "output_type": "execute_result"
    }
   ],
   "source": [
    "# проверка\n",
    "matrix_orto_diagonal @ matrix_orto_diagonal_transpose"
   ]
  },
  {
   "cell_type": "code",
   "execution_count": 4,
   "metadata": {},
   "outputs": [
    {
     "name": "stdout",
     "output_type": "stream",
     "text": [
      "[[ 1  0  0]\n",
      " [ 0 -1  0]\n",
      " [ 0  0  1]]\n",
      "[[ 1  0  0]\n",
      " [ 0 -1  0]\n",
      " [ 0  0  1]]\n"
     ]
    }
   ],
   "source": [
    "# b) верхнетреугольная, ортогональная: \n",
    "matrix_upper_angle = np.array([\n",
    "    \n",
    "    [1, 0, 0, ], \n",
    "    [0, -1, 0, ], \n",
    "    [0, 0, 1, ]\n",
    "\n",
    "])\n",
    "\n",
    "matrix_upper_angle_transpose = matrix_upper_angle.transpose()\n",
    "print(matrix_upper_angle)\n",
    "print(matrix_upper_angle_transpose)"
   ]
  },
  {
   "cell_type": "code",
   "execution_count": 5,
   "metadata": {},
   "outputs": [
    {
     "data": {
      "text/plain": [
       "array([[1, 0, 0],\n",
       "       [0, 1, 0],\n",
       "       [0, 0, 1]])"
      ]
     },
     "execution_count": 5,
     "metadata": {},
     "output_type": "execute_result"
    }
   ],
   "source": [
    "# проверка:\n",
    "matrix_upper_angle @ matrix_upper_angle_transpose"
   ]
  },
  {
   "cell_type": "code",
   "execution_count": 6,
   "metadata": {},
   "outputs": [
    {
     "name": "stdout",
     "output_type": "stream",
     "text": [
      "[[-1  0  0]\n",
      " [ 0  1  0]\n",
      " [ 0  0 -1]]\n",
      "[[-1  0  0]\n",
      " [ 0  1  0]\n",
      " [ 0  0 -1]]\n"
     ]
    }
   ],
   "source": [
    "# c) нижнетреугольная, ортогональная:\n",
    "matrix_lower_angle = np.array([\n",
    "    \n",
    "    [-1, 0, 0, ], \n",
    "    [0, 1, 0, ], \n",
    "    [0, 0, -1, ]\n",
    "\n",
    "])\n",
    "\n",
    "matrix_lower_angle_transpose = matrix_lower_angle.transpose()\n",
    "print(matrix_lower_angle)\n",
    "print(matrix_lower_angle_transpose)"
   ]
  },
  {
   "cell_type": "code",
   "execution_count": 7,
   "metadata": {},
   "outputs": [
    {
     "data": {
      "text/plain": [
       "array([[1, 0, 0],\n",
       "       [0, 1, 0],\n",
       "       [0, 0, 1]])"
      ]
     },
     "execution_count": 7,
     "metadata": {},
     "output_type": "execute_result"
    }
   ],
   "source": [
    "# проверка:\n",
    "matrix_lower_angle @ matrix_lower_angle_transpose"
   ]
  },
  {
   "cell_type": "code",
   "execution_count": 8,
   "metadata": {},
   "outputs": [
    {
     "data": {
      "text/plain": [
       "1.0"
      ]
     },
     "execution_count": 8,
     "metadata": {},
     "output_type": "execute_result"
    }
   ],
   "source": [
    "# d) матрица, у которой определитель = 1, и все элементы не равны 0:\n",
    "matrix_d = np.array([\n",
    "    [1, 2, 1, ],\n",
    "    [1, 1, 2, ],\n",
    "    [1, 1, 1, ],\n",
    "])\n",
    "matrix_d_det = np.linalg.det(matrix_d)\n",
    "matrix_d_det"
   ]
  },
  {
   "cell_type": "code",
   "execution_count": 9,
   "metadata": {},
   "outputs": [
    {
     "name": "stdout",
     "output_type": "stream",
     "text": [
      "[[2 2]\n",
      " [1 3]]\n",
      "[1. 4.]\n",
      "[[-0.89442719 -0.70710678]\n",
      " [ 0.4472136  -0.70710678]]\n"
     ]
    }
   ],
   "source": [
    "# Найдите собственные значения и собственные вектора матриц:\n",
    "m = np.array([[2, 2], [1, 3], ])\n",
    "print(m)\n",
    "wm, vm = np.linalg.eig(m)\n",
    "print(wm)\n",
    "print(vm)"
   ]
  },
  {
   "cell_type": "code",
   "execution_count": 10,
   "metadata": {},
   "outputs": [
    {
     "name": "stdout",
     "output_type": "stream",
     "text": [
      "[[-0.89442719 -2.82842712]\n",
      " [ 0.4472136  -2.82842712]]\n",
      "[[-0.89442719 -2.82842712]\n",
      " [ 0.4472136  -2.82842712]]\n"
     ]
    }
   ],
   "source": [
    "# проверка:\n",
    "print(np.dot(m, vm))\n",
    "print(wm * vm)"
   ]
  },
  {
   "cell_type": "code",
   "execution_count": 11,
   "metadata": {},
   "outputs": [
    {
     "name": "stdout",
     "output_type": "stream",
     "text": [
      "[[1 2]\n",
      " [2 3]]\n"
     ]
    }
   ],
   "source": [
    "# Найдите спектральное разложение матрицы:\n",
    "m_matrix = np.array([[1, 2], [2,3], ])\n",
    "print(m_matrix)"
   ]
  },
  {
   "cell_type": "code",
   "execution_count": 12,
   "metadata": {},
   "outputs": [
    {
     "name": "stdout",
     "output_type": "stream",
     "text": [
      "[1. 4.]\n",
      "[[-0.89442719 -0.70710678]\n",
      " [ 0.4472136  -0.70710678]]\n"
     ]
    }
   ],
   "source": [
    "wm_matrix, vm_matrix = np.linalg.eig(m)\n",
    "print(wm_matrix)\n",
    "print(vm_matrix)"
   ]
  },
  {
   "cell_type": "code",
   "execution_count": 13,
   "metadata": {},
   "outputs": [
    {
     "data": {
      "text/plain": [
       "array([[ 0.8, -0. ],\n",
       "       [-0. ,  2. ]])"
      ]
     },
     "execution_count": 13,
     "metadata": {},
     "output_type": "execute_result"
    }
   ],
   "source": [
    "m_matrix_diagonal = np.array([[1, 0, ], [0, 4, ], ])\n",
    "vm_matrix_transpose = vm_matrix.transpose()\n",
    "A = vm_matrix * m_matrix_diagonal * vm_matrix_transpose\n",
    "A"
   ]
  },
  {
   "cell_type": "code",
   "execution_count": 14,
   "metadata": {},
   "outputs": [],
   "source": [
    "# Постройте зависимость качества восстановления рукописных цифр (MNIST) в зависимости от различного количества компонент PCA. \n",
    "# В качестве метрики различия предлагаю использовать MSE. *\n",
    "\n",
    "# У PCA есть метод transform и inverse_transofrm. Первый - снижает размерность, второй - \n",
    "# восстанавливает оригинальные данные с потерей информации\n",
    "# Надо посчитать насколько в среднем точно восстанавливается оригинальная картинка в зависимости от количества компонент в PCA\n",
    "# В качестве справки можно использовать:\n",
    "\n",
    "# https://scikit-learn.org/stable/modules/generated/sklearn.decomposition.PCA.html - документация по PCA\n",
    "# https://scikit-learn.org/stable/modules/generated/sklearn.metrics.mean_squared_error.html  - документация по MSE\n",
    "\n",
    "# Картинки цифр можно взять отсюда - https://scikit-learn.org/stable/modules/generated/sklearn.datasets.load_digits.html"
   ]
  },
  {
   "cell_type": "code",
   "execution_count": 15,
   "metadata": {},
   "outputs": [
    {
     "name": "stdout",
     "output_type": "stream",
     "text": [
      "(1797, 64)\n"
     ]
    },
    {
     "data": {
      "text/plain": [
       "<Figure size 432x288 with 0 Axes>"
      ]
     },
     "metadata": {},
     "output_type": "display_data"
    },
    {
     "data": {
      "image/png": "[encoded data removed]",
      "text/plain": [
       "<Figure size 288x288 with 1 Axes>"
      ]
     },
     "metadata": {
      "needs_background": "light"
     },
     "output_type": "display_data"
    }
   ],
   "source": [
    "from sklearn.datasets import load_digits\n",
    "digits = load_digits()\n",
    "print(digits.data.shape)\n",
    "import matplotlib.pyplot as plt \n",
    "plt.gray() \n",
    "plt.matshow(digits.images[0]) \n",
    "plt.show()"
   ]
  },
  {
   "cell_type": "code",
   "execution_count": 16,
   "metadata": {},
   "outputs": [
    {
     "data": {
      "text/plain": [
       "array([[ 0.,  0.,  5., 13.,  9.,  1.,  0.,  0.],\n",
       "       [ 0.,  0., 13., 15., 10., 15.,  5.,  0.],\n",
       "       [ 0.,  3., 15.,  2.,  0., 11.,  8.,  0.],\n",
       "       [ 0.,  4., 12.,  0.,  0.,  8.,  8.,  0.],\n",
       "       [ 0.,  5.,  8.,  0.,  0.,  9.,  8.,  0.],\n",
       "       [ 0.,  4., 11.,  0.,  1., 12.,  7.,  0.],\n",
       "       [ 0.,  2., 14.,  5., 10., 12.,  0.,  0.],\n",
       "       [ 0.,  0.,  6., 13., 10.,  0.,  0.,  0.]])"
      ]
     },
     "execution_count": 16,
     "metadata": {},
     "output_type": "execute_result"
    }
   ],
   "source": [
    "X = digits.images[0]\n",
    "X"
   ]
  },
  {
   "cell_type": "code",
   "execution_count": 17,
   "metadata": {},
   "outputs": [
    {
     "data": {
      "text/plain": [
       "array([[12.36003688, -4.83717493],\n",
       "       [ 5.86389857, 10.54116172],\n",
       "       [-8.32575547,  1.26267318],\n",
       "       [-8.15102196, -3.13233421],\n",
       "       [-7.78388558, -4.4046279 ],\n",
       "       [-8.41673849, -0.27786264],\n",
       "       [ 1.49457433,  5.64044187],\n",
       "       [12.95889171, -4.79227709]])"
      ]
     },
     "execution_count": 17,
     "metadata": {},
     "output_type": "execute_result"
    }
   ],
   "source": [
    "from sklearn.decomposition import IncrementalPCA\n",
    "ipca = IncrementalPCA(n_components=2, batch_size=3)\n",
    "ipca.fit(X)\n",
    "X_tranformed = ipca.transform(X)\n",
    "X_tranformed"
   ]
  },
  {
   "cell_type": "code",
   "execution_count": 18,
   "metadata": {},
   "outputs": [
    {
     "data": {
      "text/plain": [
       "array([[-1.50649833e-15,  1.89141983e-01,  5.36177466e+00,\n",
       "         1.26672185e+01,  9.52299739e+00,  7.00082909e-01,\n",
       "         5.33987873e-02,  0.00000000e+00],\n",
       "       [-3.58447510e-16,  7.06746789e-02,  1.42716108e+01,\n",
       "         1.28941049e+01,  1.12204542e+01,  1.45071655e+01,\n",
       "         2.44619389e+00,  0.00000000e+00],\n",
       "       [ 9.59390763e-16,  3.82501727e+00,  1.29957409e+01,\n",
       "         9.28869263e-01,  1.31979898e+00,  1.22447675e+01,\n",
       "         7.48657254e+00,  0.00000000e+00],\n",
       "       [ 8.18005486e-16,  4.20090625e+00,  1.08301388e+01,\n",
       "        -2.34484968e-01,  1.03086326e-02,  8.86236144e+00,\n",
       "         7.40491328e+00,  0.00000000e+00],\n",
       "       [ 7.41931917e-16,  4.24534306e+00,  1.01315600e+01,\n",
       "        -3.64496099e-01, -2.13606226e-01,  7.77712959e+00,\n",
       "         7.26793020e+00,  0.00000000e+00],\n",
       "       [ 9.26733449e-16,  3.98773299e+00,  1.22711198e+01,\n",
       "         4.21658228e-01,  7.86178506e-01,  1.11101783e+01,\n",
       "         7.51245643e+00,  0.00000000e+00],\n",
       "       [-9.37737295e-18,  1.41803456e+00,  1.28901410e+01,\n",
       "         8.61570619e+00,  7.52307928e+00,  1.22649435e+01,\n",
       "         3.98936458e+00,  0.00000000e+00],\n",
       "       [-1.57173840e-15,  6.31492190e-02,  5.24791399e+00,\n",
       "         1.30714240e+01,  9.83078924e+00,  5.33371155e-01,\n",
       "        -1.60829709e-01,  0.00000000e+00]])"
      ]
     },
     "execution_count": 18,
     "metadata": {},
     "output_type": "execute_result"
    }
   ],
   "source": [
    "X_recovered = ipca.inverse_transform(X_tranformed)\n",
    "X_recovered"
   ]
  },
  {
   "cell_type": "code",
   "execution_count": 19,
   "metadata": {},
   "outputs": [
    {
     "data": {
      "text/plain": [
       "1.1689243562888887"
      ]
     },
     "execution_count": 19,
     "metadata": {},
     "output_type": "execute_result"
    }
   ],
   "source": [
    "from sklearn.metrics import mean_squared_error\n",
    "mean_squared_error(X, X_recovered)"
   ]
  }
 ],
 "metadata": {
  "kernelspec": {
   "display_name": "Python 3",
   "language": "python",
   "name": "python3"
  },
  "language_info": {
   "codemirror_mode": {
    "name": "ipython",
    "version": 3
   },
   "file_extension": ".py",
   "mimetype": "text/x-python",
   "name": "python",
   "nbconvert_exporter": "python",
   "pygments_lexer": "ipython3",
   "version": "3.8.5"
  }
 },
 "nbformat": 4,
 "nbformat_minor": 1
}
